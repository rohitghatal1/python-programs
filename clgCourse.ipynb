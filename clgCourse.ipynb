{
 "cells": [
  {
   "cell_type": "markdown",
   "id": "e751355e",
   "metadata": {},
   "source": [
    "Series: One dimensional labeled Array (like excel)\n",
    "DataFrame: Two dimensional labeled Array"
   ]
  }
 ],
 "metadata": {
  "language_info": {
   "name": "python"
  }
 },
 "nbformat": 4,
 "nbformat_minor": 5
}
